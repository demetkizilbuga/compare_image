{
 "cells": [
  {
   "cell_type": "code",
   "execution_count": 4,
   "metadata": {},
   "outputs": [
    {
     "name": "stderr",
     "output_type": "stream",
     "text": [
      "Exception in Tkinter callback\n",
      "Traceback (most recent call last):\n",
      "  File \"/usr/lib/python3.5/tkinter/__init__.py\", line 1553, in __call__\n",
      "    return self.func(*args)\n",
      "  File \"<ipython-input-4-5db8a53df0e3>\", line 40, in clicked1\n",
      "    resource = urllib.urlopen(url1)\n",
      "AttributeError: module 'urllib' has no attribute 'urlopen'\n",
      "Exception in Tkinter callback\n",
      "Traceback (most recent call last):\n",
      "  File \"/usr/lib/python3.5/tkinter/__init__.py\", line 1553, in __call__\n",
      "    return self.func(*args)\n",
      "  File \"<ipython-input-4-5db8a53df0e3>\", line 40, in clicked1\n",
      "    resource = urllib.urlopen(url1)\n",
      "AttributeError: module 'urllib' has no attribute 'urlopen'\n",
      "Exception in Tkinter callback\n",
      "Traceback (most recent call last):\n",
      "  File \"/usr/lib/python3.5/tkinter/__init__.py\", line 1553, in __call__\n",
      "    return self.func(*args)\n",
      "  File \"<ipython-input-4-5db8a53df0e3>\", line 40, in clicked1\n",
      "    resource = urllib.urlopen(url1)\n",
      "AttributeError: module 'urllib' has no attribute 'urlopen'\n",
      "Exception in Tkinter callback\n",
      "Traceback (most recent call last):\n",
      "  File \"/usr/lib/python3.5/tkinter/__init__.py\", line 1553, in __call__\n",
      "    return self.func(*args)\n",
      "  File \"<ipython-input-4-5db8a53df0e3>\", line 40, in clicked1\n",
      "    resource = urllib.urlopen(url1)\n",
      "AttributeError: module 'urllib' has no attribute 'urlopen'\n",
      "Exception in Tkinter callback\n",
      "Traceback (most recent call last):\n",
      "  File \"/usr/lib/python3.5/tkinter/__init__.py\", line 1553, in __call__\n",
      "    return self.func(*args)\n",
      "  File \"<ipython-input-4-5db8a53df0e3>\", line 40, in clicked1\n",
      "    resource = urllib.urlopen(url1)\n",
      "AttributeError: module 'urllib' has no attribute 'urlopen'\n",
      "Exception in Tkinter callback\n",
      "Traceback (most recent call last):\n",
      "  File \"/usr/lib/python3.5/tkinter/__init__.py\", line 1553, in __call__\n",
      "    return self.func(*args)\n",
      "  File \"<ipython-input-4-5db8a53df0e3>\", line 40, in clicked1\n",
      "    resource = urllib.urlopen(url1)\n",
      "AttributeError: module 'urllib' has no attribute 'urlopen'\n"
     ]
    },
    {
     "data": {
      "text/plain": [
       "<__main__.App at 0x7fc9d252f9b0>"
      ]
     },
     "execution_count": 4,
     "metadata": {},
     "output_type": "execute_result"
    }
   ],
   "source": [
    "from skimage.measure import compare_ssim as ssim\n",
    "import matplotlib.pyplot as plt\n",
    "import numpy as np\n",
    "import cv2\n",
    "\n",
    "img1 = cv2.imread(\"1.jpeg\")\n",
    "img2 = cv2.imread(\"2.jpg\")\n",
    "        \n",
    "img11 = cv2.cvtColor(img1, cv2.COLOR_BGR2GRAY)\n",
    "img12 = cv2.cvtColor(img2, cv2.COLOR_BGR2GRAY)\n",
    "        \n",
    "imageA = cv2.resize(img11, (100, 100)) \n",
    "imageB = cv2.resize(img12, (100, 100)) \n",
    "        \n",
    "s = ssim(imageA, imageB)\n",
    "\n",
    "print(s)"
   ]
  },
  {
   "cell_type": "code",
   "execution_count": null,
   "metadata": {},
   "outputs": [],
   "source": []
  },
  {
   "cell_type": "code",
   "execution_count": null,
   "metadata": {},
   "outputs": [],
   "source": []
  },
  {
   "cell_type": "code",
   "execution_count": null,
   "metadata": {},
   "outputs": [],
   "source": []
  },
  {
   "cell_type": "code",
   "execution_count": null,
   "metadata": {},
   "outputs": [],
   "source": []
  }
 ],
 "metadata": {
  "kernelspec": {
   "display_name": "Python 3",
   "language": "python",
   "name": "python3"
  },
  "language_info": {
   "codemirror_mode": {
    "name": "ipython",
    "version": 3
   },
   "file_extension": ".py",
   "mimetype": "text/x-python",
   "name": "python",
   "nbconvert_exporter": "python",
   "pygments_lexer": "ipython3",
   "version": "3.5.2"
  }
 },
 "nbformat": 4,
 "nbformat_minor": 2
}
